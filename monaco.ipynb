{
 "cells": [
  {
   "cell_type": "code",
   "execution_count": 9,
   "metadata": {},
   "outputs": [
    {
     "name": "stdout",
     "output_type": "stream",
     "text": [
      "Overwriting sensor.proto\n"
     ]
    }
   ],
   "source": [
    "%%writefile sensor.proto\n",
    "syntax = \"proto3\";\n",
    "\n",
    "service SensorService {\n",
    "    rpc StreamSensorData (stream SensorData) returns (stream DashboardUpdate);\n",
    "}\n",
    "\n",
    "message SensorData {\n",
    "    string sensor_id = 1;\n",
    "    double temperature = 2;\n",
    "    double humidity = 3;\n",
    "    double luminosity = 4;  // Novo campo para luminosidade\n",
    "}\n",
    "\n",
    "message DashboardUpdate {\n",
    "    string sensor_id = 1;\n",
    "    double avg_temperature = 2;\n",
    "    double avg_humidity = 3;\n",
    "    double avg_luminosity = 4;  // Novo campo para luminosidade média\n",
    "    string status = 5;\n",
    "}"
   ]
  },
  {
   "cell_type": "code",
   "execution_count": 10,
   "metadata": {},
   "outputs": [],
   "source": [
    "!python -m grpc_tools.protoc -I. --python_out=. --grpc_python_out=. sensor.proto"
   ]
  }
 ],
 "metadata": {
  "kernelspec": {
   "display_name": "Python 3",
   "language": "python",
   "name": "python3"
  },
  "language_info": {
   "codemirror_mode": {
    "name": "ipython",
    "version": 3
   },
   "file_extension": ".py",
   "mimetype": "text/x-python",
   "name": "python",
   "nbconvert_exporter": "python",
   "pygments_lexer": "ipython3",
   "version": "3.10.11"
  }
 },
 "nbformat": 4,
 "nbformat_minor": 2
}
